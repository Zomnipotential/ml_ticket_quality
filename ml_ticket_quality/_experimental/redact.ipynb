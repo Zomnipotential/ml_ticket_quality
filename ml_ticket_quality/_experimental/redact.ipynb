{
 "cells": [
  {
   "cell_type": "code",
   "execution_count": null,
   "metadata": {},
   "outputs": [],
   "source": [
    "import re\n",
    "\n",
    "def redact_pii(text):\n",
    "    text = re.sub(r'\\b\\d{6}[-+]\\d{4}\\b', '[REDACTED SSN]', text)\n",
    "    text = re.sub(r'\\+46[\\s\\d]{7,}', '[REDACTED PHONE]', text)\n",
    "    text = re.sub(r'\\b[\\w\\.-]+@[\\w\\.-]+\\.\\w+\\b', '[REDACTED EMAIL]', text)\n",
    "    return text"
   ]
  }
 ],
 "metadata": {
  "language_info": {
   "name": "python"
  }
 },
 "nbformat": 4,
 "nbformat_minor": 2
}
