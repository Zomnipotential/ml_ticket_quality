{
 "cells": [
  {
   "cell_type": "code",
   "execution_count": null,
   "metadata": {},
   "outputs": [],
   "source": [
    "import re\n",
    "\n",
    "def parse_tickets(raw_text):\n",
    "    chunks = re.split(r\"(T-\\d{4})\", raw_text)\n",
    "    raw_data = []\n",
    "    for i in range(1, len(chunks), 2):\n",
    "        ticket_id = chunks[i].strip()\n",
    "        ticket_data = chunks[i + 1].strip()\n",
    "        raw_data.append((ticket_id, ticket_data))\n",
    "\n",
    "    final_table = []\n",
    "    for ticket_id, chunk in raw_data:\n",
    "        cleaned = re.sub(r'\\s*\\n+\\s*', ' ', chunk.strip())\n",
    "\n",
    "        created_at_match = re.search(r'(\\d{4}-\\d{2}-\\d{2}T\\d{2}:\\d{2}:\\d{2}\\+)\\s*([\\d:]+)', cleaned)\n",
    "        if created_at_match:\n",
    "            created_at = created_at_match.group(1) + created_at_match.group(2)\n",
    "            after_created = cleaned[created_at_match.end():].strip()\n",
    "        else:\n",
    "            created_at = \"\"\n",
    "            after_created = cleaned\n",
    "\n",
    "        match = re.match(r'(\\w+)\\s+([\\w\\-]+)\\s+\\'(.+?)\\'$', after_created)\n",
    "        if match:\n",
    "            channel = match.group(1)\n",
    "            lang_hint = match.group(2)\n",
    "            body = match.group(3).strip()\n",
    "        else:\n",
    "            channel = lang_hint = body = \"\"\n",
    "\n",
    "        final_table.append({\n",
    "            \"ticket_id\": ticket_id,\n",
    "            \"created_at\": created_at,\n",
    "            \"channel\": channel,\n",
    "            \"lang_hint\": lang_hint,\n",
    "            \"body\": body\n",
    "        })\n",
    "\n",
    "    return final_table"
   ]
  }
 ],
 "metadata": {
  "language_info": {
   "name": "python"
  }
 },
 "nbformat": 4,
 "nbformat_minor": 2
}
