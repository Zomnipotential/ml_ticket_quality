{
 "cells": [
  {
   "cell_type": "code",
   "execution_count": null,
   "metadata": {},
   "outputs": [],
   "source": [
    "from src.parser import parse_tickets\n",
    "from src.extractors import extract_entities\n",
    "from src.scoring import score_ticket_components\n",
    "from src.redact import redact_pii\n",
    "\n",
    "import json\n",
    "from pathlib import Path\n",
    "\n",
    "# Load raw text input\n",
    "with open(\"data/snippet.txt\", \"r\", encoding=\"utf-8\") as f:\n",
    "    raw_text = f.read()\n",
    "\n",
    "# Parse and structure ticket data\n",
    "tickets = parse_tickets(raw_text)\n",
    "\n",
    "# Extract entities, compute scores, redact bodies\n",
    "for ticket in tickets:\n",
    "    ticket[\"entities\"] = extract_entities(ticket[\"body\"])\n",
    "    ticket.update(score_ticket_components(ticket))\n",
    "    ticket[\"body_redacted\"] = redact_pii(ticket[\"body\"])\n",
    "\n",
    "# Output: Save full and redacted reports\n",
    "Path(\"output\").mkdir(exist_ok=True)\n",
    "\n",
    "with open(\"output/ticket_report_with_scores.json\", \"w\", encoding=\"utf-8\") as f:\n",
    "    json.dump(tickets, f, indent=2, ensure_ascii=False)\n",
    "\n",
    "with open(\"output/ticket_report_redacted.json\", \"w\", encoding=\"utf-8\") as f:\n",
    "    json.dump(tickets, f, indent=2, ensure_ascii=False)\n",
    "\n",
    "# Optional: print redacted output for control\n",
    "print(\"\\n=== Redacted Ticket Bodies ===\\n\")\n",
    "for ticket in tickets:\n",
    "    print(f\"{ticket['ticket_id']}:\\n{ticket['body_redacted']}\\n{'-'*60}\")"
   ]
  }
 ],
 "metadata": {
  "language_info": {
   "name": "python"
  }
 },
 "nbformat": 4,
 "nbformat_minor": 2
}
