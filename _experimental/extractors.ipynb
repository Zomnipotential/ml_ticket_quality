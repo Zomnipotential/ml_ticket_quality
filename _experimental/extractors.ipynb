{
 "cells": [
  {
   "cell_type": "code",
   "execution_count": null,
   "metadata": {},
   "outputs": [],
   "source": [
    "import re\n",
    "\n",
    "def extract_entities(body):\n",
    "    entities = {}\n",
    "\n",
    "    match = re.search(r'kundnr\\s+(\\d+)', body, re.IGNORECASE)\n",
    "    entities['customer_id'] = match.group(1) if match else None\n",
    "\n",
    "    match = re.search(r'felkod\\s+(\\d+)', body, re.IGNORECASE)\n",
    "    entities['error_code'] = match.group(1) if match else None\n",
    "\n",
    "    match = re.search(r'(\\w+)-kontoret', body, re.IGNORECASE)\n",
    "    entities['office_city'] = match.group(1) if match else None\n",
    "\n",
    "    match = re.search(r'\\b(exporterar fakturor|synkar|skickar|hämtar|laddar|loggar|sparar)\\b', body, re.IGNORECASE)\n",
    "    entities['action'] = match.group(1).lower() if match else None\n",
    "\n",
    "    match = re.search(r'\\b(\\d{6}[-+]\\d{4})\\b', body)\n",
    "    entities['personnummer'] = match.group(1) if match else None\n",
    "\n",
    "    match = re.search(r'\\+46[\\s\\d]{7,}', body)\n",
    "    entities['phone'] = match.group(0).strip() if match else None\n",
    "\n",
    "    match = re.search(r'\\b[\\w\\.-]+@[\\w\\.-]+\\.\\w+\\b', body)\n",
    "    entities['email'] = match.group(0) if match else None\n",
    "\n",
    "    return entities"
   ]
  }
 ],
 "metadata": {
  "language_info": {
   "name": "python"
  }
 },
 "nbformat": 4,
 "nbformat_minor": 2
}
